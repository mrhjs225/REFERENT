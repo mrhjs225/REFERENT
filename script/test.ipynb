{
 "cells": [
  {
   "cell_type": "code",
   "execution_count": 1,
   "metadata": {},
   "outputs": [
    {
     "ename": "ModuleNotFoundError",
     "evalue": "No module named 'matplotlib'",
     "output_type": "error",
     "traceback": [
      "\u001b[0;31m---------------------------------------------------------------------------\u001b[0m",
      "\u001b[0;31mModuleNotFoundError\u001b[0m                       Traceback (most recent call last)",
      "\u001b[1;32m/home/hjs/research/REFERENT/script/test.ipynb 셀 1\u001b[0m line \u001b[0;36m1\n\u001b[0;32m----> <a href='vscode-notebook-cell://ssh-remote%2Bhjs/home/hjs/research/REFERENT/script/test.ipynb#W0sdnNjb2RlLXJlbW90ZQ%3D%3D?line=0'>1</a>\u001b[0m \u001b[39mfrom\u001b[39;00m \u001b[39mjs_library\u001b[39;00m \u001b[39mimport\u001b[39;00m \u001b[39m*\u001b[39m\n",
      "File \u001b[0;32m~/research/REFERENT/script/js_library.py:7\u001b[0m\n\u001b[1;32m      4\u001b[0m \u001b[39mfrom\u001b[39;00m \u001b[39mre\u001b[39;00m \u001b[39mimport\u001b[39;00m S\n\u001b[1;32m      5\u001b[0m \u001b[39mfrom\u001b[39;00m \u001b[39mtyping\u001b[39;00m \u001b[39mimport\u001b[39;00m List\n\u001b[0;32m----> 7\u001b[0m \u001b[39mimport\u001b[39;00m \u001b[39mmatplotlib\u001b[39;00m\u001b[39m.\u001b[39;00m\u001b[39mpyplot\u001b[39;00m \u001b[39mas\u001b[39;00m \u001b[39mplt\u001b[39;00m\n\u001b[1;32m      8\u001b[0m \u001b[39mimport\u001b[39;00m \u001b[39mnumpy\u001b[39;00m \u001b[39mas\u001b[39;00m \u001b[39mnp\u001b[39;00m\n\u001b[1;32m      9\u001b[0m \u001b[39mimport\u001b[39;00m \u001b[39mos\u001b[39;00m\n",
      "\u001b[0;31mModuleNotFoundError\u001b[0m: No module named 'matplotlib'"
     ]
    }
   ],
   "source": [
    "from js_library import *\n"
   ]
  },
  {
   "cell_type": "code",
   "execution_count": 5,
   "metadata": {},
   "outputs": [],
   "source": [
    "submission_list = read_pickle(\"../../codeforce/submission_pair/1_submission_pair.pkl\")"
   ]
  },
  {
   "cell_type": "code",
   "execution_count": 7,
   "metadata": {},
   "outputs": [
    {
     "name": "stdout",
     "output_type": "stream",
     "text": [
      "400\n"
     ]
    }
   ],
   "source": [
    "print(len(submission_list))"
   ]
  },
  {
   "cell_type": "code",
   "execution_count": 22,
   "metadata": {},
   "outputs": [],
   "source": [
    "submission_list = read_json(\"../../JSTFix/data/codeforce/codeforce_finetuning_dataset.json\")"
   ]
  },
  {
   "cell_type": "code",
   "execution_count": 25,
   "metadata": {},
   "outputs": [],
   "source": [
    "submission_list = read_json(\"/home/hjs/research/REFERENT/data/codeforce/finetuning/50/finetuning_50_model_0.json\")"
   ]
  },
  {
   "cell_type": "code",
   "execution_count": 26,
   "metadata": {},
   "outputs": [
    {
     "name": "stdout",
     "output_type": "stream",
     "text": [
      "500\n"
     ]
    }
   ],
   "source": [
    "print(len(submission_list))"
   ]
  },
  {
   "cell_type": "code",
   "execution_count": 27,
   "metadata": {},
   "outputs": [],
   "source": [
    "import shutil\n",
    "\n",
    "basic_dir = \"/home/hjs/research/JSTFix/data/codeforce/function_stmt_processed_data/\"\n",
    "target_folder = \"../data/codeforce/finetune_raw_data/\"\n",
    "for submission in submission_list:\n",
    "    problem_id = submission[\"id\"].split(\"_\")[0]\n",
    "    user_id = '_'.join(submission[\"id\"].split(\"_\")[1:])\n",
    "    user_folder = \"{}{}/{}\".format(target_folder, problem_id, user_id)\n",
    "    wrong_file_name = submission[\"source_filename\"].split(\"/\")[1]\n",
    "    correct_file_name = submission[\"target_filename\"].split(\"/\")[1]\n",
    "    make_dirs(user_folder)\n",
    "    wrong_file_dir = \"{}{}/{}/{}\".format(basic_dir, problem_id, user_id, wrong_file_name)\n",
    "    correct_file_dir = \"{}{}/{}/{}\".format(basic_dir, problem_id, user_id, correct_file_name)\n",
    "    target_wrong_file_dir = \"{}{}/{}/{}\".format(target_folder, problem_id, user_id, wrong_file_name)\n",
    "    target_correct_file_dir = \"{}{}/{}/{}\".format(target_folder, problem_id, user_id, correct_file_name)\n",
    "    shutil.copyfile(wrong_file_dir, target_wrong_file_dir)\n",
    "    shutil.copyfile(correct_file_dir, target_correct_file_dir)\n",
    "    # break"
   ]
  },
  {
   "cell_type": "code",
   "execution_count": null,
   "metadata": {},
   "outputs": [],
   "source": [
    "import shutil\n",
    "base_dir = \"\""
   ]
  }
 ],
 "metadata": {
  "kernelspec": {
   "display_name": "afg",
   "language": "python",
   "name": "python3"
  },
  "language_info": {
   "codemirror_mode": {
    "name": "ipython",
    "version": 3
   },
   "file_extension": ".py",
   "mimetype": "text/x-python",
   "name": "python",
   "nbconvert_exporter": "python",
   "pygments_lexer": "ipython3",
   "version": "3.9.12"
  },
  "orig_nbformat": 4
 },
 "nbformat": 4,
 "nbformat_minor": 2
}
